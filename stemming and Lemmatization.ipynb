{
 "cells": [
  {
   "cell_type": "code",
   "execution_count": 1,
   "id": "3a1f2c93",
   "metadata": {},
   "outputs": [],
   "source": [
    "import nltk\n",
    "import spacy"
   ]
  },
  {
   "cell_type": "code",
   "execution_count": 2,
   "id": "ce9415dd",
   "metadata": {},
   "outputs": [],
   "source": [
    "from nltk.stem import PorterStemmer\n",
    "stemmer = PorterStemmer()"
   ]
  },
  {
   "cell_type": "code",
   "execution_count": 7,
   "id": "4875b36d",
   "metadata": {},
   "outputs": [],
   "source": [
    "words = ['eating','eats','eat','ate','adjustable','rafting','ability','meeting','availablity','better']"
   ]
  },
  {
   "cell_type": "code",
   "execution_count": 8,
   "id": "4b4620bc",
   "metadata": {},
   "outputs": [
    {
     "name": "stdout",
     "output_type": "stream",
     "text": [
      "eating  |  eat\n",
      "eats  |  eat\n",
      "eat  |  eat\n",
      "ate  |  ate\n",
      "adjustable  |  adjust\n",
      "rafting  |  raft\n",
      "ability  |  abil\n",
      "meeting  |  meet\n",
      "availablity  |  availabl\n",
      "better  |  better\n"
     ]
    }
   ],
   "source": [
    "for word in words:\n",
    "    print(word,\" | \",stemmer.stem(word))"
   ]
  },
  {
   "cell_type": "code",
   "execution_count": 9,
   "id": "0cf4b355",
   "metadata": {},
   "outputs": [
    {
     "name": "stdout",
     "output_type": "stream",
     "text": [
      "eating  |  12092082220177030354  |  eating\n",
      "eats  |  9837207709914848172  |  eat\n",
      "eat  |  9837207709914848172  |  eat\n",
      "ate  |  9837207709914848172  |  eat\n",
      "adjustable  |  6033511944150694480  |  adjustable\n",
      "rafting  |  7154368781129989833  |  raft\n",
      "ability  |  11565809527369121409  |  ability\n",
      "meeting  |  14798207169164081740  |  meeting\n",
      "availablity  |  4114544030581036865  |  availablity\n",
      "better  |  4525988469032889948  |  well\n"
     ]
    }
   ],
   "source": [
    "nlp = spacy.load('en_core_web_sm')\n",
    "\n",
    "doc = nlp(' '.join(words))\n",
    "for word in doc:\n",
    "    print(word,\" | \",word.lemma,\" | \",word.lemma_)"
   ]
  },
  {
   "cell_type": "code",
   "execution_count": 11,
   "id": "e800ac3d",
   "metadata": {},
   "outputs": [
    {
     "name": "stdout",
     "output_type": "stream",
     "text": [
      "Collecting en-core-web-lg==3.4.0\n",
      "  Downloading https://github.com/explosion/spacy-models/releases/download/en_core_web_lg-3.4.0/en_core_web_lg-3.4.0-py3-none-any.whl (587.7 MB)\n",
      "\u001b[2K     \u001b[38;2;114;156;31m━━━━━━━━━━━━━━━━━━━━━━━━━━━━━━━━━━━━━\u001b[0m \u001b[32m587.7/587.7 MB\u001b[0m \u001b[31m778.2 kB/s\u001b[0m eta \u001b[36m0:00:00\u001b[0mm eta \u001b[36m0:00:01\u001b[0m[36m0:00:07\u001b[0m\n",
      "\u001b[?25hRequirement already satisfied: spacy<3.5.0,>=3.4.0 in /home/abir/anaconda3/envs/nlp_env/lib/python3.10/site-packages (from en-core-web-lg==3.4.0) (3.4.0)\n",
      "Requirement already satisfied: catalogue<2.1.0,>=2.0.6 in /home/abir/anaconda3/envs/nlp_env/lib/python3.10/site-packages (from spacy<3.5.0,>=3.4.0->en-core-web-lg==3.4.0) (2.0.7)\n",
      "Requirement already satisfied: setuptools in /home/abir/anaconda3/envs/nlp_env/lib/python3.10/site-packages (from spacy<3.5.0,>=3.4.0->en-core-web-lg==3.4.0) (61.2.0)\n",
      "Requirement already satisfied: wasabi<1.1.0,>=0.9.1 in /home/abir/anaconda3/envs/nlp_env/lib/python3.10/site-packages (from spacy<3.5.0,>=3.4.0->en-core-web-lg==3.4.0) (0.9.1)\n",
      "Requirement already satisfied: packaging>=20.0 in /home/abir/anaconda3/envs/nlp_env/lib/python3.10/site-packages (from spacy<3.5.0,>=3.4.0->en-core-web-lg==3.4.0) (21.3)\n",
      "Requirement already satisfied: jinja2 in /home/abir/anaconda3/envs/nlp_env/lib/python3.10/site-packages (from spacy<3.5.0,>=3.4.0->en-core-web-lg==3.4.0) (3.0.3)\n",
      "Requirement already satisfied: langcodes<4.0.0,>=3.2.0 in /home/abir/anaconda3/envs/nlp_env/lib/python3.10/site-packages (from spacy<3.5.0,>=3.4.0->en-core-web-lg==3.4.0) (3.3.0)\n",
      "Requirement already satisfied: thinc<8.2.0,>=8.1.0 in /home/abir/anaconda3/envs/nlp_env/lib/python3.10/site-packages (from spacy<3.5.0,>=3.4.0->en-core-web-lg==3.4.0) (8.1.0)\n",
      "Requirement already satisfied: spacy-legacy<3.1.0,>=3.0.9 in /home/abir/anaconda3/envs/nlp_env/lib/python3.10/site-packages (from spacy<3.5.0,>=3.4.0->en-core-web-lg==3.4.0) (3.0.9)\n",
      "Requirement already satisfied: srsly<3.0.0,>=2.4.3 in /home/abir/anaconda3/envs/nlp_env/lib/python3.10/site-packages (from spacy<3.5.0,>=3.4.0->en-core-web-lg==3.4.0) (2.4.4)\n",
      "Requirement already satisfied: numpy>=1.15.0 in /home/abir/anaconda3/envs/nlp_env/lib/python3.10/site-packages (from spacy<3.5.0,>=3.4.0->en-core-web-lg==3.4.0) (1.23.1)\n",
      "Requirement already satisfied: tqdm<5.0.0,>=4.38.0 in /home/abir/anaconda3/envs/nlp_env/lib/python3.10/site-packages (from spacy<3.5.0,>=3.4.0->en-core-web-lg==3.4.0) (4.64.0)\n",
      "Requirement already satisfied: murmurhash<1.1.0,>=0.28.0 in /home/abir/anaconda3/envs/nlp_env/lib/python3.10/site-packages (from spacy<3.5.0,>=3.4.0->en-core-web-lg==3.4.0) (1.0.7)\n",
      "Requirement already satisfied: cymem<2.1.0,>=2.0.2 in /home/abir/anaconda3/envs/nlp_env/lib/python3.10/site-packages (from spacy<3.5.0,>=3.4.0->en-core-web-lg==3.4.0) (2.0.6)\n",
      "Requirement already satisfied: requests<3.0.0,>=2.13.0 in /home/abir/anaconda3/envs/nlp_env/lib/python3.10/site-packages (from spacy<3.5.0,>=3.4.0->en-core-web-lg==3.4.0) (2.28.1)\n",
      "Requirement already satisfied: pathy>=0.3.5 in /home/abir/anaconda3/envs/nlp_env/lib/python3.10/site-packages (from spacy<3.5.0,>=3.4.0->en-core-web-lg==3.4.0) (0.6.2)\n",
      "Requirement already satisfied: preshed<3.1.0,>=3.0.2 in /home/abir/anaconda3/envs/nlp_env/lib/python3.10/site-packages (from spacy<3.5.0,>=3.4.0->en-core-web-lg==3.4.0) (3.0.6)\n",
      "Requirement already satisfied: spacy-loggers<2.0.0,>=1.0.0 in /home/abir/anaconda3/envs/nlp_env/lib/python3.10/site-packages (from spacy<3.5.0,>=3.4.0->en-core-web-lg==3.4.0) (1.0.3)\n",
      "Requirement already satisfied: pydantic!=1.8,!=1.8.1,<1.10.0,>=1.7.4 in /home/abir/anaconda3/envs/nlp_env/lib/python3.10/site-packages (from spacy<3.5.0,>=3.4.0->en-core-web-lg==3.4.0) (1.9.1)\n",
      "Requirement already satisfied: typer<0.5.0,>=0.3.0 in /home/abir/anaconda3/envs/nlp_env/lib/python3.10/site-packages (from spacy<3.5.0,>=3.4.0->en-core-web-lg==3.4.0) (0.4.2)\n",
      "Requirement already satisfied: pyparsing!=3.0.5,>=2.0.2 in /home/abir/anaconda3/envs/nlp_env/lib/python3.10/site-packages (from packaging>=20.0->spacy<3.5.0,>=3.4.0->en-core-web-lg==3.4.0) (3.0.4)\n",
      "Requirement already satisfied: smart-open<6.0.0,>=5.2.1 in /home/abir/anaconda3/envs/nlp_env/lib/python3.10/site-packages (from pathy>=0.3.5->spacy<3.5.0,>=3.4.0->en-core-web-lg==3.4.0) (5.2.1)\n",
      "Requirement already satisfied: typing-extensions>=3.7.4.3 in /home/abir/anaconda3/envs/nlp_env/lib/python3.10/site-packages (from pydantic!=1.8,!=1.8.1,<1.10.0,>=1.7.4->spacy<3.5.0,>=3.4.0->en-core-web-lg==3.4.0) (4.1.1)\n",
      "Requirement already satisfied: certifi>=2017.4.17 in /home/abir/anaconda3/envs/nlp_env/lib/python3.10/site-packages (from requests<3.0.0,>=2.13.0->spacy<3.5.0,>=3.4.0->en-core-web-lg==3.4.0) (2022.6.15)\n",
      "Requirement already satisfied: charset-normalizer<3,>=2 in /home/abir/anaconda3/envs/nlp_env/lib/python3.10/site-packages (from requests<3.0.0,>=2.13.0->spacy<3.5.0,>=3.4.0->en-core-web-lg==3.4.0) (2.1.0)\n",
      "Requirement already satisfied: urllib3<1.27,>=1.21.1 in /home/abir/anaconda3/envs/nlp_env/lib/python3.10/site-packages (from requests<3.0.0,>=2.13.0->spacy<3.5.0,>=3.4.0->en-core-web-lg==3.4.0) (1.26.10)\n",
      "Requirement already satisfied: idna<4,>=2.5 in /home/abir/anaconda3/envs/nlp_env/lib/python3.10/site-packages (from requests<3.0.0,>=2.13.0->spacy<3.5.0,>=3.4.0->en-core-web-lg==3.4.0) (3.3)\n",
      "Requirement already satisfied: blis<0.8.0,>=0.7.8 in /home/abir/anaconda3/envs/nlp_env/lib/python3.10/site-packages (from thinc<8.2.0,>=8.1.0->spacy<3.5.0,>=3.4.0->en-core-web-lg==3.4.0) (0.7.8)\n",
      "Requirement already satisfied: click<9.0.0,>=7.1.1 in /home/abir/anaconda3/envs/nlp_env/lib/python3.10/site-packages (from typer<0.5.0,>=0.3.0->spacy<3.5.0,>=3.4.0->en-core-web-lg==3.4.0) (8.1.3)\n",
      "Requirement already satisfied: MarkupSafe>=2.0 in /home/abir/anaconda3/envs/nlp_env/lib/python3.10/site-packages (from jinja2->spacy<3.5.0,>=3.4.0->en-core-web-lg==3.4.0) (2.1.1)\n",
      "Installing collected packages: en-core-web-lg\n",
      "Successfully installed en-core-web-lg-3.4.0\n",
      "\u001b[38;5;2m✔ Download and installation successful\u001b[0m\n",
      "You can now load the package via spacy.load('en_core_web_lg')\n"
     ]
    }
   ],
   "source": [
    "!spacy download en_core_web_lg"
   ]
  },
  {
   "cell_type": "code",
   "execution_count": 12,
   "id": "0de819a2",
   "metadata": {},
   "outputs": [
    {
     "name": "stdout",
     "output_type": "stream",
     "text": [
      "eating  |  9837207709914848172  |  eat\n",
      "eats  |  9837207709914848172  |  eat\n",
      "eat  |  9837207709914848172  |  eat\n",
      "ate  |  9837207709914848172  |  eat\n",
      "adjustable  |  6033511944150694480  |  adjustable\n",
      "rafting  |  1196139325854331  |  rafting\n",
      "ability  |  11565809527369121409  |  ability\n",
      "meeting  |  6880656908171229526  |  meet\n",
      "availablity  |  4114544030581036865  |  availablity\n",
      "better  |  4525988469032889948  |  well\n"
     ]
    }
   ],
   "source": [
    "nlp = spacy.load('en_core_web_lg')\n",
    "\n",
    "doc = nlp(' '.join(words))\n",
    "for word in doc:\n",
    "    print(word,\" | \",word.lemma,\" | \",word.lemma_)"
   ]
  },
  {
   "cell_type": "code",
   "execution_count": 14,
   "id": "bf769c54",
   "metadata": {},
   "outputs": [
    {
     "name": "stdout",
     "output_type": "stream",
     "text": [
      "Found existing installation: en-core-web-lg 3.4.0\r\n",
      "Uninstalling en-core-web-lg-3.4.0:\r\n",
      "  Successfully uninstalled en-core-web-lg-3.4.0\r\n"
     ]
    }
   ],
   "source": [
    "!pip uninstall -y en_core_web_lg"
   ]
  },
  {
   "cell_type": "code",
   "execution_count": 16,
   "id": "7cf29e0a",
   "metadata": {},
   "outputs": [
    {
     "name": "stdout",
     "output_type": "stream",
     "text": [
      "Mando | 7837215228004622142 | Mando\n",
      "talked | 13939146775466599234 | talk\n",
      "for | 16037325823156266367 | for\n",
      "3 | 602994839685422785 | 3\n",
      "hours | 9748623380567160636 | hour\n",
      "although | 343236316598008647 | although\n",
      "talking | 3577425109143670181 | talking\n",
      "is | 10382539506755952630 | be\n",
      "not | 447765159362469301 | not\n",
      "his | 2661093235354845946 | his\n",
      "thing | 2473243759842082748 | thing\n",
      "he | 1655312771067108281 | he\n",
      "bacame | 12209203143915586331 | bacame\n",
      "talkative | 13364764166055324990 | talkative\n"
     ]
    }
   ],
   "source": [
    "doc = nlp('Mando talked for 3 hours although talking is not his thing he bacame talkative')\n",
    "\n",
    "for token in doc:\n",
    "    print(token,token.lemma,token.lemma_,sep=' | ')"
   ]
  },
  {
   "cell_type": "code",
   "execution_count": 17,
   "id": "2507d19c",
   "metadata": {},
   "outputs": [
    {
     "data": {
      "text/plain": [
       "['tok2vec', 'tagger', 'parser', 'attribute_ruler', 'lemmatizer', 'ner']"
      ]
     },
     "execution_count": 17,
     "metadata": {},
     "output_type": "execute_result"
    }
   ],
   "source": [
    "nlp.pipe_names"
   ]
  },
  {
   "cell_type": "code",
   "execution_count": 24,
   "id": "fa9e9e7b",
   "metadata": {},
   "outputs": [
    {
     "name": "stdout",
     "output_type": "stream",
     "text": [
      "Bro | Brother\n",
      ", | ,\n",
      "you | you\n",
      "wanna | Brother\n",
      "go | go\n",
      "? | ?\n",
      "Brah | Brother\n",
      ", | ,\n",
      "do | do\n",
      "n't | not\n",
      "say | say\n",
      "no | no\n",
      "! | !\n",
      "I | I\n",
      "am | be\n",
      "exhausted | exhaust\n",
      ". | .\n"
     ]
    }
   ],
   "source": [
    "ar = nlp.get_pipe('attribute_ruler')\n",
    "ar.add([[{\"Text\":'Bro'}],[{\"TEXT\":'Brah'}]], {\"LEMMA\":\"Brother\"})\n",
    "# ar.add({\"TEXT\":\"wanna\"},[[{\"LEMMA\":'want'}],[{\"LEMMA\":'to'}]])\n",
    "doc = nlp(\"Bro, you wanna go? Brah, don't say no! I am exhausted.\")\n",
    "\n",
    "for token in doc:\n",
    "    print(token.text,token.lemma_,sep=\" | \")"
   ]
  },
  {
   "cell_type": "code",
   "execution_count": null,
   "id": "97bc72ff",
   "metadata": {},
   "outputs": [],
   "source": []
  }
 ],
 "metadata": {
  "kernelspec": {
   "display_name": "Python 3 (ipykernel)",
   "language": "python",
   "name": "python3"
  },
  "language_info": {
   "codemirror_mode": {
    "name": "ipython",
    "version": 3
   },
   "file_extension": ".py",
   "mimetype": "text/x-python",
   "name": "python",
   "nbconvert_exporter": "python",
   "pygments_lexer": "ipython3",
   "version": "3.10.4"
  }
 },
 "nbformat": 4,
 "nbformat_minor": 5
}

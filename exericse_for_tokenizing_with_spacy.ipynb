{
 "cells": [
  {
   "cell_type": "code",
   "execution_count": 3,
   "id": "7b55d1e6",
   "metadata": {},
   "outputs": [],
   "source": [
    "import spacy\n",
    "nlp = spacy.blank('en')"
   ]
  },
  {
   "cell_type": "code",
   "execution_count": 22,
   "id": "0591f015",
   "metadata": {},
   "outputs": [
    {
     "data": {
      "text/plain": [
       "'Look for data to help you address the question. Governments are goodsources because data from public research is often freely available. Goodplaces to start include http://www.data.gov/, and http://www.science.gov/, and in the United Kingdom, http://data.gov.uk/.Two of my favorite data sets are the General Social Survey at http://www3.norc.org/gss+website/, and the European Social Survey at http://www.europeansocialsurvey.org/.'"
      ]
     },
     "execution_count": 22,
     "metadata": {},
     "output_type": "execute_result"
    }
   ],
   "source": [
    "# https://greenteapress.com/thinkstats2/thinkstats2.pdf\n",
    "\n",
    "text = '''\n",
    "Look for data to help you address the question. Governments are good\n",
    "sources because data from public research is often freely available. Good\n",
    "places to start include http://www.data.gov/, and http://www.science.\n",
    "gov/, and in the United Kingdom, http://data.gov.uk/.\n",
    "Two of my favorite data sets are the General Social Survey at http://www3.\n",
    "norc.org/gss+website/, and the European Social Survey at http://www.\n",
    "europeansocialsurvey.org/.\n",
    "\n",
    "'''\n",
    "text = ''.join(text.split('\\n'))\n",
    "text"
   ]
  },
  {
   "cell_type": "code",
   "execution_count": 23,
   "id": "24f10427",
   "metadata": {},
   "outputs": [],
   "source": [
    "doc = nlp(text)\n",
    "urls = []\n",
    "for token in doc:\n",
    "    if token.like_url:\n",
    "        urls.append(token)"
   ]
  },
  {
   "cell_type": "code",
   "execution_count": 24,
   "id": "4490ad8e",
   "metadata": {},
   "outputs": [
    {
     "data": {
      "text/plain": [
       "[http://www.data.gov/,\n",
       " http://www.science.gov/,\n",
       " http://data.gov.uk/.Two,\n",
       " http://www3.norc.org/gss+website/,\n",
       " http://www.europeansocialsurvey.org/.]"
      ]
     },
     "execution_count": 24,
     "metadata": {},
     "output_type": "execute_result"
    }
   ],
   "source": [
    "urls"
   ]
  },
  {
   "cell_type": "code",
   "execution_count": 25,
   "id": "c0e51a09",
   "metadata": {},
   "outputs": [
    {
     "name": "stdout",
     "output_type": "stream",
     "text": [
      "two   $\n",
      "500   €\n"
     ]
    }
   ],
   "source": [
    "transactions = 'Tony gave two $ to Peter, Bruce gave 500 € to steve'\n",
    "doc = nlp(transactions)\n",
    "\n",
    "for token in doc:\n",
    "    if token.like_num and doc[token.i+1].is_currency:\n",
    "        print(token,' ',doc[token.i+1])"
   ]
  },
  {
   "cell_type": "code",
   "execution_count": null,
   "id": "c0bcc543",
   "metadata": {},
   "outputs": [],
   "source": []
  }
 ],
 "metadata": {
  "kernelspec": {
   "display_name": "Python 3 (ipykernel)",
   "language": "python",
   "name": "python3"
  },
  "language_info": {
   "codemirror_mode": {
    "name": "ipython",
    "version": 3
   },
   "file_extension": ".py",
   "mimetype": "text/x-python",
   "name": "python",
   "nbconvert_exporter": "python",
   "pygments_lexer": "ipython3",
   "version": "3.10.4"
  }
 },
 "nbformat": 4,
 "nbformat_minor": 5
}

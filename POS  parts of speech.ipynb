{
 "cells": [
  {
   "cell_type": "code",
   "execution_count": 1,
   "id": "e5cb609e",
   "metadata": {},
   "outputs": [],
   "source": [
    "import spacy\n",
    "nlp = spacy.load('en_core_web_sm')"
   ]
  },
  {
   "cell_type": "code",
   "execution_count": 10,
   "id": "471df954",
   "metadata": {},
   "outputs": [],
   "source": [
    "def parts_of_speech(doc):\n",
    "    for token in doc:\n",
    "        print(token,token.pos_,spacy.explain(token.pos_),token.tag_,spacy.explain(token.tag_),sep=' | ')"
   ]
  },
  {
   "cell_type": "code",
   "execution_count": 11,
   "id": "c487753f",
   "metadata": {
    "scrolled": true
   },
   "outputs": [],
   "source": [
    "doc = nlp('Elon flew to mars yesterday. He carried biryani masala with him.')\n",
    "\n"
   ]
  },
  {
   "cell_type": "code",
   "execution_count": 12,
   "id": "770c77d4",
   "metadata": {},
   "outputs": [
    {
     "name": "stdout",
     "output_type": "stream",
     "text": [
      "Wow | INTJ | interjection | UH | interjection\n",
      "! | PUNCT | punctuation | . | punctuation mark, sentence closer\n",
      "Dr. | PROPN | proper noun | NNP | noun, proper singular\n",
      "Strange | PROPN | proper noun | NNP | noun, proper singular\n",
      "made | VERB | verb | VBD | verb, past tense\n",
      "265 | NUM | numeral | CD | cardinal number\n",
      "million | NUM | numeral | CD | cardinal number\n",
      "$ | PUNCT | punctuation | -RRB- | right round bracket\n",
      "on | ADP | adposition | IN | conjunction, subordinating or preposition\n",
      "the | DET | determiner | DT | determiner\n",
      "very | ADV | adverb | RB | adverb\n",
      "first | ADJ | adjective | JJ | adjective (English), other noun-modifier (Chinese)\n",
      "day | NOUN | noun | NN | noun, singular or mass\n",
      ". | PUNCT | punctuation | . | punctuation mark, sentence closer\n"
     ]
    }
   ],
   "source": [
    "doc = nlp('Wow! Dr. Strange made 265 million $ on the very first day.')\n",
    "parts_of_speech(doc)"
   ]
  },
  {
   "cell_type": "code",
   "execution_count": 14,
   "id": "e048e365",
   "metadata": {},
   "outputs": [
    {
     "name": "stdout",
     "output_type": "stream",
     "text": [
      "He | PRON | pronoun | PRP | pronoun, personal\n",
      "quit | VERB | verb | VBD | verb, past tense\n",
      "the | DET | determiner | DT | determiner\n",
      "job | NOUN | noun | NN | noun, singular or mass\n",
      ". | PUNCT | punctuation | . | punctuation mark, sentence closer\n"
     ]
    }
   ],
   "source": [
    "doc = nlp('He quit the job.')\n",
    "parts_of_speech(doc)"
   ]
  },
  {
   "cell_type": "code",
   "execution_count": null,
   "id": "897ba7f0",
   "metadata": {},
   "outputs": [],
   "source": []
  },
  {
   "cell_type": "code",
   "execution_count": 18,
   "id": "04427e5f",
   "metadata": {},
   "outputs": [],
   "source": [
    "earning_text = '''\n",
    "Microsoft Corp. today announced the following results for the quarter ended December 31, 2021, as compared to the corresponding period of last fiscal year:\n",
    "\n",
    "·         Revenue was $51.7 billion and increased 20%\n",
    "\n",
    "·         Operating income was $22.2 billion and increased 24%\n",
    "\n",
    "·         Net income was $18.8 billion and increased 21%\n",
    "\n",
    "·         Diluted earnings per share was $2.48 and increased 22%\n",
    "“Digital technology etc. is the most malleable resource at the world’s disposal to overcome constraints and reimagine everyday work and life,” said Satya Nadella, chairman and chief executive officer of Microsoft. “As tech as a percentage of global GDP continues to increase, we are innovating and investing across diverse and growing markets, with a common underlying technology stack and an operating model that reinforces a common strategy, culture, and sense of purpose.”\n",
    "“Solid commercial execution, represented by strong bookings growth driven by long-term Azure commitments, increased Microsoft Cloud revenue to $22.1 billion, up 32% year over year” said Amy Hood, executive vice president and chief financial officer of Microsoft.\n",
    "'''"
   ]
  },
  {
   "cell_type": "code",
   "execution_count": 21,
   "id": "56f5b23a",
   "metadata": {},
   "outputs": [
    {
     "name": "stdout",
     "output_type": "stream",
     "text": [
      "Microsoft | PROPN | proper noun\n",
      "Corp. | PROPN | proper noun\n",
      "today | NOUN | noun\n",
      "announced | VERB | verb\n",
      "the | DET | determiner\n",
      "following | VERB | verb\n",
      "results | NOUN | noun\n",
      "for | ADP | adposition\n",
      "the | DET | determiner\n",
      "quarter | NOUN | noun\n",
      "ended | VERB | verb\n",
      "December | PROPN | proper noun\n",
      "31 | NUM | numeral\n",
      "2021 | NUM | numeral\n",
      "as | SCONJ | subordinating conjunction\n",
      "compared | VERB | verb\n",
      "to | ADP | adposition\n",
      "the | DET | determiner\n",
      "corresponding | ADJ | adjective\n",
      "period | NOUN | noun\n",
      "of | ADP | adposition\n",
      "last | ADJ | adjective\n",
      "fiscal | ADJ | adjective\n",
      "year | NOUN | noun\n",
      "Revenue | PROPN | proper noun\n",
      "was | AUX | auxiliary\n",
      "$ | SYM | symbol\n",
      "51.7 | NUM | numeral\n",
      "billion | NUM | numeral\n",
      "and | CCONJ | coordinating conjunction\n",
      "increased | VERB | verb\n",
      "20 | NUM | numeral\n",
      "% | NOUN | noun\n",
      "Operating | VERB | verb\n",
      "income | NOUN | noun\n",
      "was | AUX | auxiliary\n",
      "$ | SYM | symbol\n",
      "22.2 | NUM | numeral\n",
      "billion | NUM | numeral\n",
      "and | CCONJ | coordinating conjunction\n",
      "increased | VERB | verb\n",
      "24 | NUM | numeral\n",
      "% | NOUN | noun\n",
      "Net | ADJ | adjective\n",
      "income | NOUN | noun\n",
      "was | AUX | auxiliary\n",
      "$ | SYM | symbol\n",
      "18.8 | NUM | numeral\n",
      "billion | NUM | numeral\n",
      "and | CCONJ | coordinating conjunction\n",
      "increased | VERB | verb\n",
      "21 | NUM | numeral\n",
      "% | NOUN | noun\n",
      "Diluted | ADJ | adjective\n",
      "earnings | NOUN | noun\n",
      "per | ADP | adposition\n",
      "share | NOUN | noun\n",
      "was | AUX | auxiliary\n",
      "$ | SYM | symbol\n",
      "2.48 | NUM | numeral\n",
      "and | CCONJ | coordinating conjunction\n",
      "increased | VERB | verb\n",
      "22 | NUM | numeral\n",
      "% | NOUN | noun\n",
      "Digital | PROPN | proper noun\n",
      "technology | NOUN | noun\n",
      "is | AUX | auxiliary\n",
      "the | DET | determiner\n",
      "most | ADV | adverb\n",
      "malleable | ADJ | adjective\n",
      "resource | NOUN | noun\n",
      "at | ADP | adposition\n",
      "the | DET | determiner\n",
      "world | NOUN | noun\n",
      "’s | PART | particle\n",
      "disposal | NOUN | noun\n",
      "to | PART | particle\n",
      "overcome | VERB | verb\n",
      "constraints | NOUN | noun\n",
      "and | CCONJ | coordinating conjunction\n",
      "reimagine | VERB | verb\n",
      "everyday | ADJ | adjective\n",
      "work | NOUN | noun\n",
      "and | CCONJ | coordinating conjunction\n",
      "life | NOUN | noun\n",
      "said | VERB | verb\n",
      "Satya | PROPN | proper noun\n",
      "Nadella | PROPN | proper noun\n",
      "chairman | NOUN | noun\n",
      "and | CCONJ | coordinating conjunction\n",
      "chief | ADJ | adjective\n",
      "executive | ADJ | adjective\n",
      "officer | NOUN | noun\n",
      "of | ADP | adposition\n",
      "Microsoft | PROPN | proper noun\n",
      "As | ADV | adverb\n",
      "tech | NOUN | noun\n",
      "as | ADP | adposition\n",
      "a | DET | determiner\n",
      "percentage | NOUN | noun\n",
      "of | ADP | adposition\n",
      "global | ADJ | adjective\n",
      "GDP | PROPN | proper noun\n",
      "continues | VERB | verb\n",
      "to | PART | particle\n",
      "increase | VERB | verb\n",
      "we | PRON | pronoun\n",
      "are | AUX | auxiliary\n",
      "innovating | VERB | verb\n",
      "and | CCONJ | coordinating conjunction\n",
      "investing | VERB | verb\n",
      "across | ADP | adposition\n",
      "diverse | ADJ | adjective\n",
      "and | CCONJ | coordinating conjunction\n",
      "growing | VERB | verb\n",
      "markets | NOUN | noun\n",
      "with | ADP | adposition\n",
      "a | DET | determiner\n",
      "common | ADJ | adjective\n",
      "underlying | ADJ | adjective\n",
      "technology | NOUN | noun\n",
      "stack | NOUN | noun\n",
      "and | CCONJ | coordinating conjunction\n",
      "an | DET | determiner\n",
      "operating | NOUN | noun\n",
      "model | NOUN | noun\n",
      "that | PRON | pronoun\n",
      "reinforces | VERB | verb\n",
      "a | DET | determiner\n",
      "common | ADJ | adjective\n",
      "strategy | NOUN | noun\n",
      "culture | NOUN | noun\n",
      "and | CCONJ | coordinating conjunction\n",
      "sense | NOUN | noun\n",
      "of | ADP | adposition\n",
      "purpose | NOUN | noun\n",
      "Solid | ADJ | adjective\n",
      "commercial | ADJ | adjective\n",
      "execution | NOUN | noun\n",
      "represented | VERB | verb\n",
      "by | ADP | adposition\n",
      "strong | ADJ | adjective\n",
      "bookings | NOUN | noun\n",
      "growth | NOUN | noun\n",
      "driven | VERB | verb\n",
      "by | ADP | adposition\n",
      "long | ADJ | adjective\n",
      "term | NOUN | noun\n",
      "Azure | PROPN | proper noun\n",
      "commitments | NOUN | noun\n",
      "increased | VERB | verb\n",
      "Microsoft | PROPN | proper noun\n",
      "Cloud | PROPN | proper noun\n",
      "revenue | NOUN | noun\n",
      "to | ADP | adposition\n",
      "$ | SYM | symbol\n",
      "22.1 | NUM | numeral\n",
      "billion | NUM | numeral\n",
      "up | ADV | adverb\n",
      "32 | NUM | numeral\n",
      "% | NOUN | noun\n",
      "year | NOUN | noun\n",
      "over | ADP | adposition\n",
      "year | NOUN | noun\n",
      "said | VERB | verb\n",
      "Amy | PROPN | proper noun\n",
      "Hood | PROPN | proper noun\n",
      "executive | ADJ | adjective\n",
      "vice | NOUN | noun\n",
      "president | NOUN | noun\n",
      "and | CCONJ | coordinating conjunction\n",
      "chief | ADJ | adjective\n",
      "financial | ADJ | adjective\n",
      "officer | NOUN | noun\n",
      "of | ADP | adposition\n",
      "Microsoft | PROPN | proper noun\n"
     ]
    }
   ],
   "source": [
    "doc = nlp(earning_text)\n",
    "\n",
    "for token in doc:\n",
    "    if token.pos_ not in ['SPACE','X','PUNCT']:\n",
    "        print(token,token.pos_,spacy.explain(token.pos_),sep=' | ')"
   ]
  },
  {
   "cell_type": "code",
   "execution_count": 22,
   "id": "e3fbb1ce",
   "metadata": {},
   "outputs": [
    {
     "data": {
      "text/plain": [
       "{103: 12,\n",
       " 96: 15,\n",
       " 92: 45,\n",
       " 100: 22,\n",
       " 90: 9,\n",
       " 85: 16,\n",
       " 93: 16,\n",
       " 97: 27,\n",
       " 98: 1,\n",
       " 84: 21,\n",
       " 87: 6,\n",
       " 99: 5,\n",
       " 89: 12,\n",
       " 101: 2,\n",
       " 86: 3,\n",
       " 94: 3,\n",
       " 95: 2}"
      ]
     },
     "execution_count": 22,
     "metadata": {},
     "output_type": "execute_result"
    }
   ],
   "source": [
    "count = doc.count_by(spacy.attrs.POS)\n",
    "count"
   ]
  },
  {
   "cell_type": "code",
   "execution_count": 24,
   "id": "9dc4f5d6",
   "metadata": {},
   "outputs": [
    {
     "data": {
      "text/plain": [
       "'NOUN'"
      ]
     },
     "execution_count": 24,
     "metadata": {},
     "output_type": "execute_result"
    }
   ],
   "source": [
    "doc.vocab[92].text"
   ]
  },
  {
   "cell_type": "code",
   "execution_count": null,
   "id": "55a17932",
   "metadata": {},
   "outputs": [],
   "source": []
  }
 ],
 "metadata": {
  "kernelspec": {
   "display_name": "Python 3 (ipykernel)",
   "language": "python",
   "name": "python3"
  },
  "language_info": {
   "codemirror_mode": {
    "name": "ipython",
    "version": 3
   },
   "file_extension": ".py",
   "mimetype": "text/x-python",
   "name": "python",
   "nbconvert_exporter": "python",
   "pygments_lexer": "ipython3",
   "version": "3.10.4"
  }
 },
 "nbformat": 4,
 "nbformat_minor": 5
}

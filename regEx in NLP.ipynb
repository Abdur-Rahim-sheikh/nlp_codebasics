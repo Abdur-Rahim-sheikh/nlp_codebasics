{
 "cells": [
  {
   "cell_type": "code",
   "execution_count": 1,
   "id": "c8f29003",
   "metadata": {},
   "outputs": [],
   "source": [
    "import re"
   ]
  },
  {
   "cell_type": "code",
   "execution_count": 3,
   "id": "af9be3df",
   "metadata": {},
   "outputs": [],
   "source": [
    "chat =[\n",
    "    'codebasics: Hello, I am having an issue with my order # 41889912',\n",
    "    'codebasics: I have a problem with my order number 412889912',\n",
    "    'codebasics: My order 412889912 is having an issue, I was charged 300$ when online it say 280$'\n",
    "]"
   ]
  },
  {
   "cell_type": "code",
   "execution_count": 7,
   "id": "fd3a8ad8",
   "metadata": {},
   "outputs": [
    {
     "data": {
      "text/plain": [
       "['412889912']"
      ]
     },
     "execution_count": 7,
     "metadata": {},
     "output_type": "execute_result"
    }
   ],
   "source": [
    "pattern = 'order[^\\d]*(\\d+)'\n",
    "\n",
    "matches = re.findall(pattern,chat[1])\n",
    "matches"
   ]
  },
  {
   "cell_type": "code",
   "execution_count": null,
   "id": "ec32aff7",
   "metadata": {},
   "outputs": [],
   "source": []
  }
 ],
 "metadata": {
  "kernelspec": {
   "display_name": "Python 3 (ipykernel)",
   "language": "python",
   "name": "python3"
  },
  "language_info": {
   "codemirror_mode": {
    "name": "ipython",
    "version": 3
   },
   "file_extension": ".py",
   "mimetype": "text/x-python",
   "name": "python",
   "nbconvert_exporter": "python",
   "pygments_lexer": "ipython3",
   "version": "3.9.7"
  }
 },
 "nbformat": 4,
 "nbformat_minor": 5
}

{
 "cells": [
  {
   "cell_type": "code",
   "execution_count": 1,
   "id": "556355dc",
   "metadata": {},
   "outputs": [],
   "source": [
    "import spacy"
   ]
  },
  {
   "cell_type": "code",
   "execution_count": 2,
   "id": "b3bf0228",
   "metadata": {},
   "outputs": [
    {
     "name": "stdout",
     "output_type": "stream",
     "text": [
      "--2022-07-30 23:28:17--  https://raw.githubusercontent.com/codebasics/nlp-tutorials/main/7_pos/news_story.txt\n",
      "Resolving raw.githubusercontent.com (raw.githubusercontent.com)... 185.199.109.133, 185.199.110.133, 185.199.108.133, ...\n",
      "Connecting to raw.githubusercontent.com (raw.githubusercontent.com)|185.199.109.133|:443... connected.\n",
      "HTTP request sent, awaiting response... 200 OK\n",
      "Length: 1730 (1.7K) [text/plain]\n",
      "Saving to: ‘news_story.txt’\n",
      "\n",
      "news_story.txt      100%[===================>]   1.69K  --.-KB/s    in 0s      \n",
      "\n",
      "2022-07-30 23:28:18 (11.4 MB/s) - ‘news_story.txt’ saved [1730/1730]\n",
      "\n"
     ]
    }
   ],
   "source": [
    "!wget https://raw.githubusercontent.com/codebasics/nlp-tutorials/main/7_pos/news_story.txt"
   ]
  },
  {
   "cell_type": "code",
   "execution_count": 5,
   "id": "cfc693b9",
   "metadata": {},
   "outputs": [],
   "source": [
    "with open('news_story.txt') as f:\n",
    "    text = f.readlines()"
   ]
  },
  {
   "cell_type": "code",
   "execution_count": 12,
   "id": "ba5ad836",
   "metadata": {},
   "outputs": [],
   "source": [
    "text = ' '.join(text)"
   ]
  },
  {
   "cell_type": "code",
   "execution_count": 13,
   "id": "7f552ff1",
   "metadata": {},
   "outputs": [],
   "source": [
    "nlp = spacy.load('en_core_web_sm')"
   ]
  },
  {
   "cell_type": "code",
   "execution_count": null,
   "id": "c9e16fda",
   "metadata": {},
   "outputs": [],
   "source": []
  },
  {
   "cell_type": "code",
   "execution_count": 16,
   "id": "902723fc",
   "metadata": {},
   "outputs": [
    {
     "data": {
      "text/plain": [
       "['Inflation',\n",
       " 'climb',\n",
       " 'consumers',\n",
       " 'brink',\n",
       " 'expansion',\n",
       " 'consumer',\n",
       " 'price',\n",
       " 'index',\n",
       " 'measure',\n",
       " 'prices',\n",
       " 'goods',\n",
       " 'services',\n",
       " '%',\n",
       " 'year',\n",
       " 'estimate',\n",
       " '%',\n",
       " 'gain',\n",
       " 'ease',\n",
       " 'peak',\n",
       " 'level',\n",
       " 'summer',\n",
       " 'food',\n",
       " 'energy',\n",
       " 'prices',\n",
       " 'core',\n",
       " '%',\n",
       " 'expectations',\n",
       " '%',\n",
       " 'gain',\n",
       " 'hopes',\n",
       " 'inflation',\n",
       " 'month',\n",
       " 'month',\n",
       " 'gains',\n",
       " 'expectations',\n",
       " '%',\n",
       " 'headline',\n",
       " '%',\n",
       " 'estimate',\n",
       " '%',\n",
       " 'increase',\n",
       " 'core',\n",
       " 'outlook',\n",
       " '%',\n",
       " 'gain',\n",
       " 'price',\n",
       " 'gains',\n",
       " 'workers',\n",
       " 'ground',\n",
       " 'wages',\n",
       " 'inflation',\n",
       " '%',\n",
       " 'month',\n",
       " 'increase',\n",
       " '%',\n",
       " 'earnings',\n",
       " 'year',\n",
       " 'earnings',\n",
       " '%',\n",
       " 'earnings',\n",
       " '%',\n",
       " 'threat',\n",
       " 'recovery',\n",
       " 'pandemic',\n",
       " 'economy',\n",
       " 'stage',\n",
       " 'year',\n",
       " 'growth',\n",
       " 'level',\n",
       " 'prices',\n",
       " 'pump',\n",
       " 'grocery',\n",
       " 'stores',\n",
       " 'problem',\n",
       " 'inflation',\n",
       " 'areas',\n",
       " 'housing',\n",
       " 'auto',\n",
       " 'sales',\n",
       " 'host',\n",
       " 'areas',\n",
       " 'officials',\n",
       " 'problem',\n",
       " 'interest',\n",
       " 'rate',\n",
       " 'hikes',\n",
       " 'year',\n",
       " 'pledges',\n",
       " 'inflation',\n",
       " 'bank',\n",
       " '%',\n",
       " 'goal',\n",
       " 'data',\n",
       " 'job',\n",
       " 'Credits']"
      ]
     },
     "execution_count": 16,
     "metadata": {},
     "output_type": "execute_result"
    }
   ],
   "source": [
    "nouns = []\n",
    "doc = nlp(text)\n",
    "nouns = [token.text for token in doc if token.pos_=='NOUN']\n",
    "numbers = [token.text for token in doc if token.pos_=='NUM']\n",
    "nouns"
   ]
  },
  {
   "cell_type": "code",
   "execution_count": 17,
   "id": "03624550",
   "metadata": {},
   "outputs": [
    {
     "data": {
      "text/plain": [
       "['8.3',\n",
       " '8.1',\n",
       " '1982',\n",
       " '6.2',\n",
       " '6',\n",
       " '0.3',\n",
       " '0.2',\n",
       " '0.6',\n",
       " '0.4',\n",
       " '0.1',\n",
       " '0.3',\n",
       " '2.6',\n",
       " '5.5',\n",
       " '2021',\n",
       " '1984',\n",
       " 'one',\n",
       " 'two',\n",
       " 'two',\n",
       " '2']"
      ]
     },
     "execution_count": 17,
     "metadata": {},
     "output_type": "execute_result"
    }
   ],
   "source": [
    "numbers"
   ]
  },
  {
   "cell_type": "code",
   "execution_count": 19,
   "id": "4d46ebeb",
   "metadata": {},
   "outputs": [],
   "source": [
    "tags = doc.count_by(spacy.attrs.POS)"
   ]
  },
  {
   "cell_type": "code",
   "execution_count": 26,
   "id": "c8ff0285",
   "metadata": {},
   "outputs": [
    {
     "name": "stdout",
     "output_type": "stream",
     "text": [
      "NOUN 95\n",
      "VERB 27\n",
      "ADV 15\n",
      "ADP 39\n",
      "PROPN 17\n",
      "PUNCT 32\n",
      "DET 34\n",
      "PRON 4\n",
      "AUX 13\n",
      "CCONJ 10\n",
      "ADJ 23\n",
      "SPACE 7\n",
      "NUM 19\n",
      "PART 4\n",
      "SCONJ 8\n",
      "X 1\n"
     ]
    }
   ],
   "source": [
    "for key,value in tags.items():\n",
    "    print(doc.vocab[key].text,value)"
   ]
  },
  {
   "cell_type": "code",
   "execution_count": null,
   "id": "95a63df5",
   "metadata": {},
   "outputs": [],
   "source": []
  }
 ],
 "metadata": {
  "kernelspec": {
   "display_name": "Python 3 (ipykernel)",
   "language": "python",
   "name": "python3"
  },
  "language_info": {
   "codemirror_mode": {
    "name": "ipython",
    "version": 3
   },
   "file_extension": ".py",
   "mimetype": "text/x-python",
   "name": "python",
   "nbconvert_exporter": "python",
   "pygments_lexer": "ipython3",
   "version": "3.10.4"
  }
 },
 "nbformat": 4,
 "nbformat_minor": 5
}
